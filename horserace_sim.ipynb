import numpy as np
import matplotlib.pyplot as plt
import seaborn as sns

# Number of races to simulate
num_races = 10000

# Weibull distribution parameters (shape 'k', scale 'lambda')
shape_red = 2.0
scale_red = 1.0
shape_green = 1.8
scale_green = 1.2
shape_blue = 2.5
scale_blue = 1.5

# Generate times for each horse in a large number of races using Weibull distribution
red_times = np.random.weibull(shape_red, size=num_races) * scale_red
green_times = np.random.weibull(shape_green, size=num_races) * scale_green
blue_times = np.random.weibull(shape_blue, size=num_races) * scale_blue

# Stack all times into a matrix
all_times = np.stack([red_times, green_times, blue_times], axis=1)

# Determine the winner in each race by finding the horse with the smallest time
winners = np.argmin(all_times, axis=1)

# Calculate probabilities of each horse winning
red_wins = np.sum(winners == 0) / num_races
green_wins = np.sum(winners == 1) / num_races
blue_wins = np.sum(winners == 2) / num_races

# Print the win probabilities
print(f"Red win probability: {red_wins:.2f}")
print(f"Green win probability: {green_wins:.2f}")
print(f"Blue win probability: {blue_wins:.2f}")

# Function to count second place
def second_place_count(winners, horse_index):
    second_place = []
    for i in range(num_races):
        mask = np.delete(all_times[i], winners[i])
        second = np.argmin(mask)
        second_place.append(second)
    second_place = np.array(second_place)
    return np.sum(second_place == horse_index) / num_races

# Calculate the empirical second-place probabilities
red_second = second_place_count(winners, 0)
green_second = second_place_count(winners, 1)
blue_second = second_place_count(winners, 2)

# Print the second-place probabilities
print(f"Red second probability: {red_second:.2f}")
print(f"Green second probability: {green_second:.2f}")
print(f"Blue second probability: {blue_second:.2f}")

# Function to check if Luce Choice Axiom holds
def luce_choice_check(winners, win_probs, horse_order):
    results = []
    for i in range(3):  # Check for each possible winner
        empirical_second_probs = []
        theoretical_second_probs = []
        
        for j in range(3):  # Check for each horse being second
            if i != j:
                # Calculate empirical second-place probability when horse i wins
                mask = winners == i
                remaining_times = np.delete(all_times[mask], i, axis=1)
                empirical_second = np.mean(np.argmin(remaining_times, axis=1) == (j if j < i else j-1))

                # Calculate the theoretical second-place probability based on Luce's axiom
                theoretical_second = win_probs[j] / (1 - win_probs[i])

                empirical_second_probs.append(empirical_second)
                theoretical_second_probs.append(theoretical_second)

        results.append({
            'winner': horse_order[i],
            'empirical_second_probs': empirical_second_probs,
            'theoretical_second_probs': theoretical_second_probs
        })
    return results

# Check if Luce Choice Axiom holds
horse_order = ['Red', 'Green', 'Blue']
win_probs = [red_wins, green_wins, blue_wins]
luce_results = luce_choice_check(winners, win_probs, horse_order)

# Display results
for result in luce_results:
    print(f"\nWhen {result['winner']} wins:")
    for j, horse in enumerate(horse_order):
        if horse != result['winner']:
            print(f"  Empirical second-place probability for {horse}: {result['empirical_second_probs'][j-1]:.3f}")
            print(f"  Theoretical second-place probability for {horse}: {result['theoretical_second_probs'][j-1]:.3f}")

# Plot the distributions for visual reference
sns.histplot(red_times, color="red", kde=True, label=f"Red: Shape={shape_red}, Scale={scale_red}")
sns.histplot(green_times, color="green", kde=True, label=f"Green: Shape={shape_green}, Scale={scale_green}")
sns.histplot(blue_times, color="blue", kde=True, label=f"Blue: Shape={shape_blue}, Scale={scale_blue}")
plt.legend()
plt.title("Race Time Distributions for Red, Green, and Blue Horses (Weibull Distribution)")
plt.show()
